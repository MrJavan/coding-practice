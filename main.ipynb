{
 "cells": [
  {
   "cell_type": "markdown",
   "id": "99721c6e",
   "metadata": {},
   "source": [
    "ساخت لیست با عناصر رندوم به تعداد دلخواه"
   ]
  },
  {
   "cell_type": "code",
   "execution_count": null,
   "id": "7d7f3110",
   "metadata": {},
   "outputs": [],
   "source": [
    "import random\n",
    "\n",
    "letters = \"ACDE\"\n",
    "\n",
    "SEQ1 = random.choices(letters,k=100)\n",
    "SEQ2 = random.choices(letters,k=100)"
   ]
  },
  {
   "cell_type": "markdown",
   "id": "394c1d50",
   "metadata": {},
   "source": [
    "ساخت لیست به صورت دستی"
   ]
  },
  {
   "cell_type": "code",
   "execution_count": 52,
   "id": "2af79d45",
   "metadata": {},
   "outputs": [
    {
     "name": "stdout",
     "output_type": "stream",
     "text": [
      "SEQ1 :  ['A', 'C', 'D', 'E', 'C', 'C', 'D', 'E', 'A', 'B', 'E']\n",
      "SEQ2 :  ['C', 'D', 'E', 'E', 'C', 'C', 'D', 'E', 'B', 'E', 'A']\n"
     ]
    }
   ],
   "source": [
    "SEQ1 = [\"A\",\"C\",\"D\",\"E\",\"C\",\"C\",\"D\",\"E\",\"A\",\"B\",\"E\"]\n",
    "SEQ2 = [\"C\",\"D\",\"E\",\"E\",\"C\",\"C\",\"D\",\"E\",\"B\",\"E\",\"A\"]\n",
    "\n",
    "print(\"SEQ1 : \",SEQ1)\n",
    "print(\"SEQ2 : \",SEQ2)"
   ]
  },
  {
   "cell_type": "code",
   "execution_count": 138,
   "id": "68e54b90",
   "metadata": {},
   "outputs": [
    {
     "name": "stdout",
     "output_type": "stream",
     "text": [
      "4\n"
     ]
    }
   ],
   "source": [
    "def check():\n",
    "    checked = 0\n",
    "    a = 0\n",
    "    x = 0\n",
    "    for i in range(len(SEQ1)):\n",
    "        if SEQ1[i] != SEQ2[x]:\n",
    "            x += 1\n",
    "            i -= 1\n",
    "            if a > checked:\n",
    "                checked = a\n",
    "            a = 0\n",
    "        else:\n",
    "            x += 1\n",
    "            i += 1\n",
    "            a += 1\n",
    "\n",
    "    print(checked)\n",
    "\n",
    "check()"
   ]
  }
 ],
 "metadata": {
  "kernelspec": {
   "display_name": "Python 3",
   "language": "python",
   "name": "python3"
  },
  "language_info": {
   "codemirror_mode": {
    "name": "ipython",
    "version": 3
   },
   "file_extension": ".py",
   "mimetype": "text/x-python",
   "name": "python",
   "nbconvert_exporter": "python",
   "pygments_lexer": "ipython3",
   "version": "3.12.10"
  }
 },
 "nbformat": 4,
 "nbformat_minor": 5
}
